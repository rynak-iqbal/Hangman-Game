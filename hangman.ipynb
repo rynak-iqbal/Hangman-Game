{
  "nbformat": 4,
  "nbformat_minor": 0,
  "metadata": {
    "colab": {
      "provenance": []
    },
    "kernelspec": {
      "name": "python3",
      "display_name": "Python 3"
    },
    "language_info": {
      "name": "python"
    }
  },
  "cells": [
    {
      "cell_type": "code",
      "execution_count": 4,
      "metadata": {
        "id": "GTupF8djWQpn"
      },
      "outputs": [],
      "source": [
        "import random\n",
        "\n",
        "def hangman_game():\n",
        "  '''()->print\n",
        "  Simulates hangman'''\n",
        "\n",
        "  words = [\"write\", \"program\", \"that\", \"receive\", \"positive\", \"change\", \"study\", \"excellent\", \"nice\"]\n",
        "  random.shuffle(words)\n",
        "\n",
        "  for word in words:\n",
        "    rem_letters=[]\n",
        "    rem_letters_s = \"\"\n",
        "    lis_word=[]\n",
        "    misses=0\n",
        "    for i in range(len(word)):\n",
        "      rem_letters.append(\"*\")\n",
        "      lis_word.append(word[i])\n",
        "      rem_letters_s += rem_letters[i]\n",
        "    while rem_letters_s != word:\n",
        "      guess = str(input(\"Enter a letter in word \" + rem_letters_s))\n",
        "      if word.count(guess) == 0:\n",
        "        print(guess, \"is not in the word\")\n",
        "        misses+=1\n",
        "      elif rem_letters_s.count(guess) >= 1:\n",
        "        print(guess, \"is already in the word\")\n",
        "      else:\n",
        "        for k in range(len(lis_word)):\n",
        "          if guess == lis_word[k]:\n",
        "            rem_letters[k] = lis_word[k]\n",
        "            lis_word[k] = \"\"\n",
        "        rem_letters_s = \"\"\n",
        "        for m in range(len(rem_letters)):\n",
        "            rem_letters_s += rem_letters[m]\n",
        "    print(\"The word is\", word, \". You missed\", misses, \"times\")\n",
        "    ans = str(input(\"Do you want to guess another word? Enter y or n\"))\n",
        "    if ans == \"n\":\n",
        "      break\n"
      ]
    },
    {
      "cell_type": "code",
      "source": [
        "hangman_game()"
      ],
      "metadata": {
        "colab": {
          "base_uri": "https://localhost:8080/"
        },
        "id": "7tqsT7i7Wd8I",
        "outputId": "1fe11a7a-c03f-4a28-df86-8a8f96401351"
      },
      "execution_count": null,
      "outputs": [
        {
          "output_type": "stream",
          "name": "stdout",
          "text": [
            "Enter a letter in word ********h\n",
            "h is not in the word\n"
          ]
        }
      ]
    }
  ]
}